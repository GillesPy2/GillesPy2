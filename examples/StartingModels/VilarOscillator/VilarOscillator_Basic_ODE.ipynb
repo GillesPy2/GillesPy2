{
 "cells": [
  {
   "cell_type": "markdown",
   "metadata": {},
   "source": [
    "# Basic ODE Solver"
   ]
  },
  {
   "cell_type": "markdown",
   "metadata": {},
   "source": [
    "### Imports"
   ]
  },
  {
   "cell_type": "code",
   "execution_count": 1,
   "metadata": {},
   "outputs": [],
   "source": [
    "import sys\n",
    "import os\n",
    "import numpy\n",
    "sys.path.append(os.path.abspath(os.path.join(os.getcwd(), '../../../')))\n",
    "import gillespy2\n",
    "from gillespy2 import ODESolver"
   ]
  },
  {
   "cell_type": "markdown",
   "metadata": {},
   "source": [
    "### Model Instantiation\n",
    "\n",
    "Model must include rates, species, and reactions"
   ]
  },
  {
   "cell_type": "code",
   "execution_count": 2,
   "metadata": {},
   "outputs": [],
   "source": [
    "class VilarOscillator(gillespy2.Model):\n",
    "     def __init__(self, parameter_values=None):\n",
    "            #initialize Model\n",
    "            gillespy2.Model.__init__(self, name=\"VilarOscillator\")\n",
    "            \n",
    "            #parameters\n",
    "            alpha_a = gillespy2.Parameter(name='alpha_a', expression= 50.0)\n",
    "            alpha_a_prime = gillespy2.Parameter(name='alpha_a_prime', expression= 500.0)\n",
    "            alpha_r = gillespy2.Parameter(name='alpha_r', expression = 0.01)\n",
    "            alpha_r_prime = gillespy2.Parameter(name='alpha_r_prime', expression = 50.0)\n",
    "            beta_a = gillespy2.Parameter(name='beta_a', expression= 50.0)\n",
    "            beta_r = gillespy2.Parameter(name='beta_r', expression= 5.0)\n",
    "            delta_ma = gillespy2.Parameter(name='delta_ma', expression = 10.0)\n",
    "            delta_mr = gillespy2.Parameter(name='delta_mr', expression = 0.5)\n",
    "            delta_a = gillespy2.Parameter(name='delta_a', expression= 1.0)\n",
    "            delta_r = gillespy2.Parameter(name='delta_r', expression= 0.2)\n",
    "            gamma_a = gillespy2.Parameter(name='gamma_a', expression= 1.0)\n",
    "            gamma_r = gillespy2.Parameter(name='gamma_r', expression= 1.0)\n",
    "            gamma_c = gillespy2.Parameter(name='gamma_c', expression= 2.0)\n",
    "            Theta_a = gillespy2.Parameter(name='Theta_a', expression= 50.0)\n",
    "            Theta_r = gillespy2.Parameter(name='Theta_r', expression= 100.0)\n",
    "        \n",
    "            self.add_parameter([alpha_a,alpha_a_prime,alpha_r, alpha_r_prime,beta_a,beta_r,delta_ma,delta_mr,\n",
    "                               delta_a,delta_r,gamma_a,gamma_r,gamma_c,Theta_a,Theta_r])\n",
    "            \n",
    "            #Species\n",
    "            Da = gillespy2.Species(name='Da', initial_value=1)\n",
    "            Da_prime = gillespy2.Species(name='Da_prime', initial_value=0)\n",
    "            Ma = gillespy2.Species(name='Ma', initial_value=0)\n",
    "            Dr = gillespy2.Species(name='Dr', initial_value=1)\n",
    "            Dr_prime = gillespy2.Species(name='Dr_prime', initial_value=0)\n",
    "            Mr = gillespy2.Species(name='Mr',initial_value=0)\n",
    "            C = gillespy2.Species(name='C',initial_value=10)\n",
    "            A = gillespy2.Species(name='A',initial_value=10)\n",
    "            R = gillespy2.Species(name='R',initial_value=10)\n",
    "            \n",
    "            self.add_species([Da,Da_prime,Ma,Dr,Dr_prime,Mr,C,A,R])\n",
    "            \n",
    "            #reactions\n",
    "            s_Da = gillespy2.Reaction(name=\"s_Da\",reactants={Da_prime:1}, products={Da:1},rate=Theta_a)\n",
    "            s_Da_prime = gillespy2.Reaction(name=\"s_Da_prime\",reactants={Da:1,A:1}, products={Da_prime:1},rate=gamma_a)\n",
    "            s_Dr = gillespy2.Reaction(name=\"s_Dr\",reactants={Dr_prime:1}, products={Dr:1},rate=Theta_r)\n",
    "            s_Dr_prime = gillespy2.Reaction(name=\"s_Dr_prime\",reactants={Dr:1,A:1}, products={Dr_prime:1},rate=gamma_r)\n",
    "            s_Ma1 = gillespy2.Reaction(name=\"s_Ma1\",reactants={Da_prime:1},products={Da_prime:1,Ma:1},rate=alpha_a_prime)\n",
    "            s_Ma2 = gillespy2.Reaction(name=\"s_Ma2\",reactants={Da:1},products={Da:1,Ma:1},rate=alpha_a)\n",
    "            a_Ma = gillespy2.Reaction(name=\"a_Ma\",reactants={Ma:1},products={},rate=delta_ma)\n",
    "            s_A1 = gillespy2.Reaction(name=\"s_A1\",reactants={Ma:1},products={A:1,Ma:1},rate=beta_a)\n",
    "            s_A2 = gillespy2.Reaction(name=\"S_A2\",reactants={Da_prime:1},products={Da_prime:1,A:1},rate=Theta_a)\n",
    "            s_A3 = gillespy2.Reaction(name=\"S_A3\",reactants={Dr_prime:1},products={Dr_prime:1,A:1},rate=Theta_a)\n",
    "            a_A = gillespy2.Reaction(name=\"a_A\",reactants={A:1},products={},rate=gamma_c)\n",
    "            s_C = gillespy2.Reaction(name=\"s_C\",reactants={A:1,R:1},products={C:1},rate=gamma_c)\n",
    "            S_Mr1 = gillespy2.Reaction(name=\"S_Mr1\",reactants={Dr_prime:1},products={Dr_prime:1,Mr:1},rate=alpha_r_prime)\n",
    "            S_Mr2 = gillespy2.Reaction(name=\"S_Mr2\",reactants={Dr:1},products={Dr:1,Mr:1},rate=alpha_r)\n",
    "            a_Mr = gillespy2.Reaction(name=\"a_Mr\",reactants={Mr:1},products={},rate=delta_mr)\n",
    "            s_R1 = gillespy2.Reaction(name=\"s_R1\",reactants={Mr:1},products={Mr:1,R:1},rate=beta_r)\n",
    "            a_R = gillespy2.Reaction(name=\"a_R\",reactants={R:1},products={},rate=delta_r)\n",
    "            s_r2 = gillespy2.Reaction(name=\"s_r2\",reactants={C:1},products={R:1},rate=delta_a)\n",
    "            \n",
    " \n",
    "            self.add_reaction([s_Da,s_Da_prime,s_Dr,s_Dr_prime,s_Ma1,s_Ma2,a_Ma,s_A1,s_A2,s_A3,a_A,s_C,\n",
    "                              S_Mr1,S_Mr2,a_Mr,s_R1,a_R,s_r2])\n",
    "    \n",
    "            self.timespan(numpy.linspace(0,10000,10001))"
   ]
  },
  {
   "cell_type": "code",
   "execution_count": 3,
   "metadata": {},
   "outputs": [],
   "source": [
    "model = VilarOscillator()\n",
    "from gillespy2 import ODECSolver\n",
    "from gillespy2 import SSACSolver\n",
    "solver2 = SSACSolver()"
   ]
  },
  {
   "cell_type": "code",
   "execution_count": 4,
   "outputs": [
    {
     "ename": "SimulationError",
     "evalue": "argument 'solver=<class 'gillespy2.solvers.cpp.ode_c_solver.ODECSolver'>' to run() failed.  Reason Given: Error encountered while compiling file:\nReturn code: 2.\nError:\nmake: Entering directory '/tmp/tmp7abn4mam'\ng++ -c -o model.o model.cpp  \ng++ -c -o ODECSolver.o ODECSolver.cpp  \n/home/fin/PycharmProjects/GillesPy2Real/gillespy2/solvers/cpp/c_base/makefile:12: recipe for target 'ODECSolver.o' failed\nmake: Leaving directory '/tmp/tmp7abn4mam'\n\nODECSolver.cpp:2:10: fatal error: cvode.h: No such file or directory\n #include \"cvode.h\" // prototypes for CVODE fcts., consts., realtype, sunindextype\n          ^~~~~~~~~\ncompilation terminated.\nmake: *** [ODECSolver.o] Error 1\n\n",
     "output_type": "error",
     "traceback": [
      "\u001B[0;31m---------------------------------------------------------------------------\u001B[0m",
      "\u001B[0;31mBuildError\u001B[0m                                Traceback (most recent call last)",
      "\u001B[0;32m~/PycharmProjects/GillesPy2Real/gillespy2/core/model.py\u001B[0m in \u001B[0;36mrun\u001B[0;34m(self, solver, timeout, t, show_labels, cpp_support, **solver_args)\u001B[0m\n\u001B[1;32m    805\u001B[0m             solver_results, rc = solver.run(model=self, t=t, increment=self.tspan[-1] - self.tspan[-2],\n\u001B[0;32m--> 806\u001B[0;31m                                             timeout=timeout, **solver_args)\n\u001B[0m\u001B[1;32m    807\u001B[0m         \u001B[0;32mexcept\u001B[0m \u001B[0mException\u001B[0m \u001B[0;32mas\u001B[0m \u001B[0me\u001B[0m\u001B[0;34m:\u001B[0m\u001B[0;34m\u001B[0m\u001B[0;34m\u001B[0m\u001B[0m\n",
      "\u001B[0;32m~/PycharmProjects/GillesPy2Real/gillespy2/solvers/cpp/ode_c_solver.py\u001B[0m in \u001B[0;36mrun\u001B[0;34m(self, model, t, number_of_trajectories, timeout, increment, seed, debug, profile, resume, **kwargs)\u001B[0m\n\u001B[1;32m    179\u001B[0m         \u001B[0;32mif\u001B[0m \u001B[0mself\u001B[0m \u001B[0;32mis\u001B[0m \u001B[0;32mNone\u001B[0m \u001B[0;32mor\u001B[0m \u001B[0mself\u001B[0m\u001B[0;34m.\u001B[0m\u001B[0mmodel\u001B[0m \u001B[0;32mis\u001B[0m \u001B[0;32mNone\u001B[0m\u001B[0;34m:\u001B[0m\u001B[0;34m\u001B[0m\u001B[0;34m\u001B[0m\u001B[0m\n\u001B[0;32m--> 180\u001B[0;31m             \u001B[0mself\u001B[0m \u001B[0;34m=\u001B[0m\u001B[0mODECSolver\u001B[0m\u001B[0;34m(\u001B[0m\u001B[0mmodel\u001B[0m\u001B[0;34m,\u001B[0m \u001B[0mresume\u001B[0m\u001B[0;34m=\u001B[0m\u001B[0mresume\u001B[0m\u001B[0;34m)\u001B[0m\u001B[0;34m\u001B[0m\u001B[0;34m\u001B[0m\u001B[0m\n\u001B[0m\u001B[1;32m    181\u001B[0m \u001B[0;34m\u001B[0m\u001B[0m\n",
      "\u001B[0;32m~/PycharmProjects/GillesPy2Real/gillespy2/solvers/cpp/ode_c_solver.py\u001B[0m in \u001B[0;36m__init__\u001B[0;34m(self, model, output_directory, delete_directory, resume)\u001B[0m\n\u001B[1;32m    105\u001B[0m             \u001B[0mself\u001B[0m\u001B[0;34m.\u001B[0m\u001B[0m__write_template\u001B[0m\u001B[0;34m(\u001B[0m\u001B[0;34m)\u001B[0m\u001B[0;34m\u001B[0m\u001B[0;34m\u001B[0m\u001B[0m\n\u001B[0;32m--> 106\u001B[0;31m             \u001B[0mself\u001B[0m\u001B[0;34m.\u001B[0m\u001B[0m__compile\u001B[0m\u001B[0;34m(\u001B[0m\u001B[0;34m)\u001B[0m\u001B[0;34m\u001B[0m\u001B[0;34m\u001B[0m\u001B[0m\n\u001B[0m\u001B[1;32m    107\u001B[0m \u001B[0;34m\u001B[0m\u001B[0m\n",
      "\u001B[0;32m~/PycharmProjects/GillesPy2Real/gillespy2/solvers/cpp/ode_c_solver.py\u001B[0m in \u001B[0;36m__compile\u001B[0;34m(self)\u001B[0m\n\u001B[1;32m    160\u001B[0m                                                                              \u001B[0mbuilt\u001B[0m\u001B[0;34m.\u001B[0m\u001B[0mstdout\u001B[0m\u001B[0;34m.\u001B[0m\u001B[0mdecode\u001B[0m\u001B[0;34m(\u001B[0m\u001B[0;34m'utf-8'\u001B[0m\u001B[0;34m)\u001B[0m\u001B[0;34m,\u001B[0m\u001B[0;34m\u001B[0m\u001B[0;34m\u001B[0m\u001B[0m\n\u001B[0;32m--> 161\u001B[0;31m                                                                              built.stderr.decode('utf-8')))\n\u001B[0m\u001B[1;32m    162\u001B[0m \u001B[0;34m\u001B[0m\u001B[0m\n",
      "\u001B[0;31mBuildError\u001B[0m: Error encountered while compiling file:\nReturn code: 2.\nError:\nmake: Entering directory '/tmp/tmp7abn4mam'\ng++ -c -o model.o model.cpp  \ng++ -c -o ODECSolver.o ODECSolver.cpp  \n/home/fin/PycharmProjects/GillesPy2Real/gillespy2/solvers/cpp/c_base/makefile:12: recipe for target 'ODECSolver.o' failed\nmake: Leaving directory '/tmp/tmp7abn4mam'\n\nODECSolver.cpp:2:10: fatal error: cvode.h: No such file or directory\n #include \"cvode.h\" // prototypes for CVODE fcts., consts., realtype, sunindextype\n          ^~~~~~~~~\ncompilation terminated.\nmake: *** [ODECSolver.o] Error 1\n\n",
      "\nDuring handling of the above exception, another exception occurred:\n",
      "\u001B[0;31mSimulationError\u001B[0m                           Traceback (most recent call last)",
      "\u001B[0;32m<timed exec>\u001B[0m in \u001B[0;36m<module>\u001B[0;34m\u001B[0m\n",
      "\u001B[0;32m~/PycharmProjects/GillesPy2Real/gillespy2/core/model.py\u001B[0m in \u001B[0;36mrun\u001B[0;34m(self, solver, timeout, t, show_labels, cpp_support, **solver_args)\u001B[0m\n\u001B[1;32m    816\u001B[0m                                 \" run properly.\")\n\u001B[1;32m    817\u001B[0m             raise SimulationError(\n\u001B[0;32m--> 818\u001B[0;31m                 \"argument 'solver={}' to run() failed.  Reason Given: {}\".format(solver, e))\n\u001B[0m\u001B[1;32m    819\u001B[0m \u001B[0;34m\u001B[0m\u001B[0m\n\u001B[1;32m    820\u001B[0m         \u001B[0;32mif\u001B[0m \u001B[0mrc\u001B[0m \u001B[0;34m==\u001B[0m \u001B[0;36m33\u001B[0m\u001B[0;34m:\u001B[0m\u001B[0;34m\u001B[0m\u001B[0;34m\u001B[0m\u001B[0m\n",
      "\u001B[0;31mSimulationError\u001B[0m: argument 'solver=<class 'gillespy2.solvers.cpp.ode_c_solver.ODECSolver'>' to run() failed.  Reason Given: Error encountered while compiling file:\nReturn code: 2.\nError:\nmake: Entering directory '/tmp/tmp7abn4mam'\ng++ -c -o model.o model.cpp  \ng++ -c -o ODECSolver.o ODECSolver.cpp  \n/home/fin/PycharmProjects/GillesPy2Real/gillespy2/solvers/cpp/c_base/makefile:12: recipe for target 'ODECSolver.o' failed\nmake: Leaving directory '/tmp/tmp7abn4mam'\n\nODECSolver.cpp:2:10: fatal error: cvode.h: No such file or directory\n #include \"cvode.h\" // prototypes for CVODE fcts., consts., realtype, sunindextype\n          ^~~~~~~~~\ncompilation terminated.\nmake: *** [ODECSolver.o] Error 1\n\n"
     ]
    }
   ],
   "source": [
    "%time results = model.run(solver=ODECSolver)"
   ],
   "metadata": {
    "collapsed": false,
    "pycharm": {
     "name": "#%%\n"
    }
   }
  },
  {
   "cell_type": "code",
   "execution_count": 5,
   "outputs": [
    {
     "ename": "NameError",
     "evalue": "name 'results' is not defined",
     "output_type": "error",
     "traceback": [
      "\u001B[0;31m---------------------------------------------------------------------------\u001B[0m",
      "\u001B[0;31mNameError\u001B[0m                                 Traceback (most recent call last)",
      "\u001B[0;32m<ipython-input-5-9c9240c541b1>\u001B[0m in \u001B[0;36m<module>\u001B[0;34m\u001B[0m\n\u001B[0;32m----> 1\u001B[0;31m \u001B[0mresults\u001B[0m\u001B[0;34m.\u001B[0m\u001B[0mplot\u001B[0m\u001B[0;34m(\u001B[0m\u001B[0;34m)\u001B[0m\u001B[0;34m\u001B[0m\u001B[0;34m\u001B[0m\u001B[0m\n\u001B[0m\u001B[1;32m      2\u001B[0m \u001B[0;34m\u001B[0m\u001B[0m\n",
      "\u001B[0;31mNameError\u001B[0m: name 'results' is not defined"
     ]
    }
   ],
   "source": [
    "results.plot()"
   ],
   "metadata": {
    "collapsed": false,
    "pycharm": {
     "name": "#%%\n"
    }
   }
  },
  {
   "cell_type": "code",
   "execution_count": null,
   "outputs": [],
   "source": [
    "print(results)\n",
    "\n",
    "print(len(results['C']))"
   ],
   "metadata": {
    "collapsed": false,
    "pycharm": {
     "name": "#%%\n"
    }
   }
  }
 ],
 "metadata": {
  "kernelspec": {
   "display_name": "Python 3",
   "language": "python",
   "name": "python3"
  },
  "language_info": {
   "codemirror_mode": {
    "name": "ipython",
    "version": 3
   },
   "file_extension": ".py",
   "mimetype": "text/x-python",
   "name": "python",
   "nbconvert_exporter": "python",
   "pygments_lexer": "ipython3",
   "version": "3.6.8"
  }
 },
 "nbformat": 4,
 "nbformat_minor": 1
}