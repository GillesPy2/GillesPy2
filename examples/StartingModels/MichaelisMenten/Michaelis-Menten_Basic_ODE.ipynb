{
 "cells": [
  {
   "cell_type": "markdown",
   "metadata": {},
   "source": [
    "# BasicODESolver"
   ]
  },
  {
   "cell_type": "markdown",
   "metadata": {},
   "source": [
    "### Imports"
   ]
  },
  {
   "cell_type": "code",
   "execution_count": 1,
   "metadata": {
    "pycharm": {
     "name": "#%%\n"
    }
   },
   "outputs": [],
   "source": [
    "import sys\n",
    "import os\n",
    "import numpy\n",
    "sys.path.append(os.path.abspath(os.path.join(os.getcwd(), '../../../')))\n",
    "import gillespy2\n",
    "from gillespy2 import ODESolver"
   ]
  },
  {
   "cell_type": "markdown",
   "metadata": {},
   "source": [
    "### Model Instantiation\n",
    "\n",
    "Model must include rates, species, and reactions"
   ]
  },
  {
   "cell_type": "code",
   "execution_count": 2,
   "metadata": {},
   "outputs": [],
   "source": [
    "class MichaelisMenten(gillespy2.Model):\n",
    "     def __init__(self, parameter_values=None):\n",
    "            #initialize Model\n",
    "            gillespy2.Model.__init__(self, name=\"Michaelis_Menten\")\n",
    "            \n",
    "            #parameters\n",
    "            rate1 = gillespy2.Parameter(name='rate1', expression= 0.0017)\n",
    "            rate2 = gillespy2.Parameter(name='rate2', expression= 0.5)\n",
    "            rate3 = gillespy2.Parameter(name='rate3', expression = 0.1)\n",
    "            self.add_parameter([rate1,rate2,rate3])\n",
    "            \n",
    "            #Species\n",
    "            A = gillespy2.Species(name='Substrate', initial_value=301)\n",
    "            B = gillespy2.Species(name='Enzyme', initial_value=120)\n",
    "            C = gillespy2.Species(name='Enzyme_Substrate_Complex', initial_value=0)\n",
    "            D = gillespy2.Species(name='Product', initial_value=0)\n",
    "            self.add_species([A,B,C,D])\n",
    "            \n",
    "            #reactions\n",
    "            r1 = gillespy2.Reaction(name=\"r1\",reactants={A:1,B:1}, products={C:1},\n",
    "                   rate=rate1)\n",
    "            \n",
    "            r2 = gillespy2.Reaction(name=\"r2\",reactants={C:1}, products={A:1,B:1},\n",
    "                    rate=rate2)\n",
    "            \n",
    "            r3 = gillespy2.Reaction(name=\"r3\",reactants={C:1}, products={B:1,D:1},\n",
    "                    rate=rate3)\n",
    "            self.add_reaction([r1,r2,r3])\n",
    "            self.timespan(numpy.linspace(0,100,101))"
   ]
  },
  {
   "cell_type": "code",
   "execution_count": 3,
   "metadata": {
    "scrolled": true
   },
   "outputs": [],
   "source": [
    "model = MichaelisMenten()"
   ]
  },
  {
   "cell_type": "markdown",
   "source": [
    "### Run Model and plot\n",
    "Run the model by calling the run function on the model and select solver via 'solver' keyword argument.  If show_labels is True (default value, no need to specify), results are returned as a list of dictionaries, where the list index is the trajectory run index, and dictionary keys are comprised of species names and 'time'.  If show_labels is False, results are returned as a numpy array with indices [trajectory][timestep][species_no]"
   ],
   "metadata": {
    "collapsed": false
   }
  },
  {
   "cell_type": "code",
   "execution_count": 4,
   "metadata": {
    "scrolled": true
   },
   "outputs": [
    {
     "ename": "SimulationError",
     "evalue": "argument 'solver=<class 'gillespy2.solvers.cpp.ode_c_solver.ODECSolver'>' to run() failed.  Reason Given: Error encountered while compiling file:\nReturn code: 2.\nError:\nmake: Entering directory '/home/fin/PycharmProjects/GillesPy2/gillespy2/solvers/cpp/c_base/build'\nmake: Leaving directory '/home/fin/PycharmProjects/GillesPy2/gillespy2/solvers/cpp/c_base/build'\n\nmake: Circular ODECSolver.o <- ODECSolver.o dependency dropped.\nmake: *** No rule to make target 'model.cpp', needed by 'ODECSolver.o'.  Stop.\n\n",
     "output_type": "error",
     "traceback": [
      "\u001B[0;31m---------------------------------------------------------------------------\u001B[0m",
      "\u001B[0;31mBuildError\u001B[0m                                Traceback (most recent call last)",
      "\u001B[0;32m~/PycharmProjects/GillesPy2/gillespy2/core/model.py\u001B[0m in \u001B[0;36mrun\u001B[0;34m(self, solver, timeout, t, show_labels, cpp_support, **solver_args)\u001B[0m\n\u001B[1;32m    805\u001B[0m             solver_results, rc = solver.run(model=self, t=t, increment=self.tspan[-1] - self.tspan[-2],\n\u001B[0;32m--> 806\u001B[0;31m                                             timeout=timeout, **solver_args)\n\u001B[0m\u001B[1;32m    807\u001B[0m         \u001B[0;32mexcept\u001B[0m \u001B[0mException\u001B[0m \u001B[0;32mas\u001B[0m \u001B[0me\u001B[0m\u001B[0;34m:\u001B[0m\u001B[0;34m\u001B[0m\u001B[0;34m\u001B[0m\u001B[0m\n",
      "\u001B[0;32m~/PycharmProjects/GillesPy2/gillespy2/solvers/cpp/ode_c_solver.py\u001B[0m in \u001B[0;36mrun\u001B[0;34m(self, model, t, number_of_trajectories, timeout, increment, seed, debug, profile, resume, **kwargs)\u001B[0m\n\u001B[1;32m    179\u001B[0m         \u001B[0;32mif\u001B[0m \u001B[0mself\u001B[0m \u001B[0;32mis\u001B[0m \u001B[0;32mNone\u001B[0m \u001B[0;32mor\u001B[0m \u001B[0mself\u001B[0m\u001B[0;34m.\u001B[0m\u001B[0mmodel\u001B[0m \u001B[0;32mis\u001B[0m \u001B[0;32mNone\u001B[0m\u001B[0;34m:\u001B[0m\u001B[0;34m\u001B[0m\u001B[0;34m\u001B[0m\u001B[0m\n\u001B[0;32m--> 180\u001B[0;31m             \u001B[0mself\u001B[0m \u001B[0;34m=\u001B[0m\u001B[0mODECSolver\u001B[0m\u001B[0;34m(\u001B[0m\u001B[0mmodel\u001B[0m\u001B[0;34m,\u001B[0m \u001B[0mresume\u001B[0m\u001B[0;34m=\u001B[0m\u001B[0mresume\u001B[0m\u001B[0;34m)\u001B[0m\u001B[0;34m\u001B[0m\u001B[0;34m\u001B[0m\u001B[0m\n\u001B[0m\u001B[1;32m    181\u001B[0m \u001B[0;34m\u001B[0m\u001B[0m\n",
      "\u001B[0;32m~/PycharmProjects/GillesPy2/gillespy2/solvers/cpp/ode_c_solver.py\u001B[0m in \u001B[0;36m__init__\u001B[0;34m(self, model, output_directory, delete_directory, resume)\u001B[0m\n\u001B[1;32m    105\u001B[0m             \u001B[0mself\u001B[0m\u001B[0;34m.\u001B[0m\u001B[0m__write_template\u001B[0m\u001B[0;34m(\u001B[0m\u001B[0;34m)\u001B[0m\u001B[0;34m\u001B[0m\u001B[0;34m\u001B[0m\u001B[0m\n\u001B[0;32m--> 106\u001B[0;31m             \u001B[0mself\u001B[0m\u001B[0;34m.\u001B[0m\u001B[0m__compile\u001B[0m\u001B[0;34m(\u001B[0m\u001B[0;34m)\u001B[0m\u001B[0;34m\u001B[0m\u001B[0;34m\u001B[0m\u001B[0m\n\u001B[0m\u001B[1;32m    107\u001B[0m \u001B[0;34m\u001B[0m\u001B[0m\n",
      "\u001B[0;32m~/PycharmProjects/GillesPy2/gillespy2/solvers/cpp/ode_c_solver.py\u001B[0m in \u001B[0;36m__compile\u001B[0;34m(self)\u001B[0m\n\u001B[1;32m    160\u001B[0m                                                                              \u001B[0mbuilt\u001B[0m\u001B[0;34m.\u001B[0m\u001B[0mstdout\u001B[0m\u001B[0;34m.\u001B[0m\u001B[0mdecode\u001B[0m\u001B[0;34m(\u001B[0m\u001B[0;34m'utf-8'\u001B[0m\u001B[0;34m)\u001B[0m\u001B[0;34m,\u001B[0m\u001B[0;34m\u001B[0m\u001B[0;34m\u001B[0m\u001B[0m\n\u001B[0;32m--> 161\u001B[0;31m                                                                              built.stderr.decode('utf-8')))\n\u001B[0m\u001B[1;32m    162\u001B[0m \u001B[0;34m\u001B[0m\u001B[0m\n",
      "\u001B[0;31mBuildError\u001B[0m: Error encountered while compiling file:\nReturn code: 2.\nError:\nmake: Entering directory '/home/fin/PycharmProjects/GillesPy2/gillespy2/solvers/cpp/c_base/build'\nmake: Leaving directory '/home/fin/PycharmProjects/GillesPy2/gillespy2/solvers/cpp/c_base/build'\n\nmake: Circular ODECSolver.o <- ODECSolver.o dependency dropped.\nmake: *** No rule to make target 'model.cpp', needed by 'ODECSolver.o'.  Stop.\n\n",
      "\nDuring handling of the above exception, another exception occurred:\n",
      "\u001B[0;31mSimulationError\u001B[0m                           Traceback (most recent call last)",
      "\u001B[0;32m<ipython-input-4-155f0f3b35c3>\u001B[0m in \u001B[0;36m<module>\u001B[0;34m\u001B[0m\n\u001B[1;32m      1\u001B[0m \u001B[0;32mfrom\u001B[0m \u001B[0mgillespy2\u001B[0m \u001B[0;32mimport\u001B[0m \u001B[0mODECSolver\u001B[0m\u001B[0;34m\u001B[0m\u001B[0;34m\u001B[0m\u001B[0m\n\u001B[0;32m----> 2\u001B[0;31m \u001B[0mresults\u001B[0m \u001B[0;34m=\u001B[0m \u001B[0mmodel\u001B[0m\u001B[0;34m.\u001B[0m\u001B[0mrun\u001B[0m\u001B[0;34m(\u001B[0m\u001B[0msolver\u001B[0m\u001B[0;34m=\u001B[0m\u001B[0mODECSolver\u001B[0m\u001B[0;34m)\u001B[0m\u001B[0;34m\u001B[0m\u001B[0;34m\u001B[0m\u001B[0m\n\u001B[0m\u001B[1;32m      3\u001B[0m \u001B[0;34m\u001B[0m\u001B[0m\n",
      "\u001B[0;32m~/PycharmProjects/GillesPy2/gillespy2/core/model.py\u001B[0m in \u001B[0;36mrun\u001B[0;34m(self, solver, timeout, t, show_labels, cpp_support, **solver_args)\u001B[0m\n\u001B[1;32m    816\u001B[0m                                 \" run properly.\")\n\u001B[1;32m    817\u001B[0m             raise SimulationError(\n\u001B[0;32m--> 818\u001B[0;31m                 \"argument 'solver={}' to run() failed.  Reason Given: {}\".format(solver, e))\n\u001B[0m\u001B[1;32m    819\u001B[0m \u001B[0;34m\u001B[0m\u001B[0m\n\u001B[1;32m    820\u001B[0m         \u001B[0;32mif\u001B[0m \u001B[0mrc\u001B[0m \u001B[0;34m==\u001B[0m \u001B[0;36m33\u001B[0m\u001B[0;34m:\u001B[0m\u001B[0;34m\u001B[0m\u001B[0;34m\u001B[0m\u001B[0m\n",
      "\u001B[0;31mSimulationError\u001B[0m: argument 'solver=<class 'gillespy2.solvers.cpp.ode_c_solver.ODECSolver'>' to run() failed.  Reason Given: Error encountered while compiling file:\nReturn code: 2.\nError:\nmake: Entering directory '/home/fin/PycharmProjects/GillesPy2/gillespy2/solvers/cpp/c_base/build'\nmake: Leaving directory '/home/fin/PycharmProjects/GillesPy2/gillespy2/solvers/cpp/c_base/build'\n\nmake: Circular ODECSolver.o <- ODECSolver.o dependency dropped.\nmake: *** No rule to make target 'model.cpp', needed by 'ODECSolver.o'.  Stop.\n\n"
     ]
    }
   ],
   "source": [
    "from gillespy2 import ODECSolver\n",
    "results = model.run(solver=ODECSolver)"
   ]
  },
  {
   "cell_type": "code",
   "execution_count": null,
   "metadata": {
    "pycharm": {
     "name": "#%%\n"
    }
   },
   "outputs": [],
   "source": [
    "results.plot_std_dev_range()"
   ]
  }
 ],
 "metadata": {
  "kernelspec": {
   "display_name": "Python 3",
   "language": "python",
   "name": "python3"
  },
  "language_info": {
   "codemirror_mode": {
    "name": "ipython",
    "version": 3
   },
   "file_extension": ".py",
   "mimetype": "text/x-python",
   "name": "python",
   "nbconvert_exporter": "python",
   "pygments_lexer": "ipython3",
   "version": "3.6.9"
  }
 },
 "nbformat": 4,
 "nbformat_minor": 2
}